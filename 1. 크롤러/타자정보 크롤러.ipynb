{
 "cells": [
  {
   "cell_type": "markdown",
   "id": "822be1e5-68d1-4f67-a584-4fe77b32446c",
   "metadata": {},
   "source": [
    "# KBO 타자정보 크롤러\n",
    "https://www.koreabaseball.com/Record/Player/HitterBasic/Basic1.aspx"
   ]
  },
  {
   "cell_type": "code",
   "execution_count": 1,
   "id": "5d97b230-438d-4edb-950c-6ce110aca10e",
   "metadata": {
    "tags": []
   },
   "outputs": [],
   "source": [
    "# 라이브러리 불러오기\n",
    "from selenium import webdriver\n",
    "from selenium.webdriver.common.by import By\n",
    "from selenium.webdriver import ActionChains\n",
    "from selenium.webdriver.support.select import Select\n",
    "from bs4 import BeautifulSoup\n",
    "import random\n",
    "import pandas as pd\n",
    "import os"
   ]
  },
  {
   "cell_type": "markdown",
   "id": "8830c914-44d8-40c7-b028-54a05a84f753",
   "metadata": {},
   "source": [
    "## KBO 타자 기록실 연결"
   ]
  },
  {
   "cell_type": "code",
   "execution_count": 2,
   "id": "b967936b-eafb-457c-8072-b64a322443af",
   "metadata": {
    "tags": []
   },
   "outputs": [],
   "source": [
    "def connect_KBO():\n",
    "    global driver\n",
    "    global act\n",
    "    \n",
    "    # 드라이버 연결\n",
    "    driver = webdriver.Chrome()\n",
    "    \n",
    "    # 액션체인 객체 생성\n",
    "    act = ActionChains(driver)\n",
    "    \n",
    "    # KBO 기록실 이동 - 타자 / 투수\n",
    "    driver.get(f'https://www.koreabaseball.com/Record/Player/HitterBasic/Basic1.aspx')\n",
    "    \n",
    "    # 대기\n",
    "    driver.implicitly_wait(3)"
   ]
  },
  {
   "cell_type": "markdown",
   "id": "7a1c67b5-ccc2-4482-8f0f-7e5aa8e34403",
   "metadata": {
    "tags": []
   },
   "source": [
    "## 연도별 선수 URL 수집기"
   ]
  },
  {
   "cell_type": "code",
   "execution_count": 3,
   "id": "32f0e8f0-6101-4f05-a614-be94a7fe7f1e",
   "metadata": {
    "tags": []
   },
   "outputs": [],
   "source": [
    "def get_player_urls(year):\n",
    "    player_urls = list()\n",
    "    \n",
    "    # 연도 정보 변경\n",
    "    year_btn = driver.find_element(By.XPATH, '//*[@id=\"cphContents_cphContents_cphContents_ddlSeason_ddlSeason\"]')\n",
    "    sel_year_btn = Select(year_btn)\n",
    "    sel_year_btn.select_by_value(str(year))\n",
    "    driver.implicitly_wait(random.randrange(3, 7))\n",
    "    \n",
    "    \n",
    "    # 활성화된 탭만큼 이동\n",
    "    tabs = driver.find_element(By.XPATH, '//*[@id=\"cphContents_cphContents_cphContents_udpContent\"]/div[3]/div')\n",
    "    \n",
    "    for i in tabs.find_elements(By.TAG_NAME, \"a\")[1:-1]:\n",
    "        i.click()\n",
    "        driver.implicitly_wait(random.randrange(3, 7))\n",
    "        table = driver.find_element(By.XPATH, '//*[@id=\"cphContents_cphContents_cphContents_udpContent\"]/div[3]/table/tbody')\n",
    "        player_list = table.find_elements(By.TAG_NAME, \"a\")\n",
    "\n",
    "        for j in player_list:\n",
    "            player_urls.append(j.get_attribute(\"href\"))\n",
    "\n",
    "    return player_urls"
   ]
  },
  {
   "cell_type": "markdown",
   "id": "734d598d-47f4-41f3-984c-3d04d9b4ce05",
   "metadata": {
    "tags": []
   },
   "source": [
    "## 선수 정보 취합기"
   ]
  },
  {
   "cell_type": "code",
   "execution_count": 4,
   "id": "1f12dd5f-9994-4df8-b0fe-d0f520f82453",
   "metadata": {
    "tags": []
   },
   "outputs": [],
   "source": [
    "def get_players_info(urls):\n",
    "    players_info = list()\n",
    "\n",
    "    for i in urls:\n",
    "        driver.implicitly_wait(random.randrange(2,5))\n",
    "        driver.get(i)\n",
    "\n",
    "        player_info = driver.find_elements(By.XPATH, '//*[@id=\"contents\"]/div[2]/div[1]/div[1]/ul')\n",
    "        \n",
    "        # 은퇴선수 정보 pass\n",
    "        if \"은퇴선수\" in driver.title:\n",
    "            continue\n",
    "        \n",
    "        player_team = driver.find_element(By.XPATH, '//*[@id=\"h4Team\"]').text.split()[0]\n",
    "\n",
    "        player_name = player_info[0].find_elements(By.ID, \"cphContents_cphContents_cphContents_playerProfile_lblName\")[0].text # 선수이름\n",
    "        player_birth = player_info[0].find_elements(By.ID, \"cphContents_cphContents_cphContents_playerProfile_lblBirthday\")[0].text.replace(\"년 \", \"-\").replace(\"월 \", \"-\").replace(\"일\", \"\") # 선수 생년월일\n",
    "        player_height, player_weight = player_info[0].find_elements(By.ID, \"cphContents_cphContents_cphContents_playerProfile_lblHeightWeight\")[0].text.split(\"/\") # 선수 신장/체중\n",
    "        player_position = player_info[0].find_elements(By.ID, \"cphContents_cphContents_cphContents_playerProfile_lblPosition\")[0].text # 선수 포지션\n",
    "        player_salary = player_info[0].find_elements(By.ID, \"cphContents_cphContents_cphContents_playerProfile_lblSalary\")[0].text # 선수 연봉\n",
    "        \n",
    "        # hitter_name, hitter_team, hitter_birth, hitter_height, hitter_weight, hitter_position, hitter_salary\n",
    "        players_info.append([player_name, player_team, player_birth, player_height, player_weight, player_position, player_salary])\n",
    "        driver.implicitly_wait(random.randrange(1,3))\n",
    "\n",
    "    return players_info"
   ]
  },
  {
   "cell_type": "markdown",
   "id": "5b9329c6-1ee9-46c9-8992-18f1c330a9c7",
   "metadata": {
    "tags": []
   },
   "source": [
    "## 크롤러 실행기 - URL 패치 필요"
   ]
  },
  {
   "cell_type": "code",
   "execution_count": 8,
   "id": "148cc139-25de-4651-b8df-0bc591b8fb2c",
   "metadata": {
    "tags": []
   },
   "outputs": [],
   "source": [
    "def runner(year):\n",
    "    # 필요한 데이터 피쳐 리스트\n",
    "    hitter_col = [\"hitter_name\", \"hitter_team\", \"hitter_birth\", \"hitter_height\", \"hitter_weight\", \"hitter_position\", \"hitter_salary\"]\n",
    "    f_name = f\"타자정보_{year}.csv\"\n",
    "    print(f\"현재 경로: [{os.getcwd()}]에 [{f_name}] 로 저장예정. \\n원치 않으면 실행을 중단하세요.\")\n",
    "        \n",
    "    connect_KBO()\n",
    "    #url \n",
    "    urls = get_player_urls(year)\n",
    "    print(urls)\n",
    "    #data = get_players_info(urls)\n",
    "    \n",
    "    #df = pd.DataFrame(data, columns=hitter_col)\n",
    "    #df.to_csv(f_name, index=False)\n",
    "    \n",
    "    print(f\"파일 저장 완료\\n파일 저장 경로: {os.getcwd()}/{f_name}\")\n",
    "    \n",
    "    return df"
   ]
  },
  {
   "cell_type": "code",
   "execution_count": 10,
   "id": "632ab584-80d6-4bed-a78a-a7764255a593",
   "metadata": {
    "tags": []
   },
   "outputs": [
    {
     "name": "stdout",
     "output_type": "stream",
     "text": [
      "현재 경로: [/Users/dokw/Library/CloudStorage/GoogleDrive-playdev7@gmail.com/내 드라이브/GJAI/StudyNote/호크아이]에 [타자정보_2021.csv] 로 저장예정. \n",
      "원치 않으면 실행을 중단하세요.\n",
      "['https://www.koreabaseball.com/Record/Player/HitterDetail/Basic.aspx?playerId=77532', 'https://www.koreabaseball.com/Record/Player/HitterDetail/Basic.aspx?playerId=53827', 'https://www.koreabaseball.com/Record/Player/HitterDetail/Basic.aspx?playerId=66108', 'https://www.koreabaseball.com/Record/Player/HitterDetail/Basic.aspx?playerId=76232', 'https://www.koreabaseball.com/Record/Player/HitterDetail/Basic.aspx?playerId=67304', 'https://www.koreabaseball.com/Record/Player/HitterDetail/Basic.aspx?playerId=67341', 'https://www.koreabaseball.com/Record/Player/HitterDetail/Basic.aspx?playerId=75847', 'https://www.koreabaseball.com/Record/Player/HitterDetail/Basic.aspx?playerId=69995', 'https://www.koreabaseball.com/Record/Player/HitterDetail/Basic.aspx?playerId=68119', 'https://www.koreabaseball.com/Record/Player/HitterDetail/Basic.aspx?playerId=64004', 'https://www.koreabaseball.com/Record/Player/HitterDetail/Basic.aspx?playerId=69737', 'https://www.koreabaseball.com/Record/Player/HitterDetail/Basic.aspx?playerId=62907', 'https://www.koreabaseball.com/Record/Player/HitterDetail/Basic.aspx?playerId=53123', 'https://www.koreabaseball.com/Record/Player/HitterDetail/Basic.aspx?playerId=79402', 'https://www.koreabaseball.com/Record/Player/HitterDetail/Basic.aspx?playerId=74540', 'https://www.koreabaseball.com/Record/Player/HitterDetail/Basic.aspx?playerId=50458', 'https://www.koreabaseball.com/Record/Player/HitterDetail/Basic.aspx?playerId=72443', 'https://www.koreabaseball.com/Record/Player/HitterDetail/Basic.aspx?playerId=76290', 'https://www.koreabaseball.com/Record/Player/HitterDetail/Basic.aspx?playerId=79192', 'https://www.koreabaseball.com/Record/Player/HitterDetail/Basic.aspx?playerId=52009', 'https://www.koreabaseball.com/Record/Player/HitterDetail/Basic.aspx?playerId=52630', 'https://www.koreabaseball.com/Record/Player/HitterDetail/Basic.aspx?playerId=79215', 'https://www.koreabaseball.com/Record/Player/HitterDetail/Basic.aspx?playerId=51463', 'https://www.koreabaseball.com/Record/Player/HitterDetail/Basic.aspx?playerId=62415', 'https://www.koreabaseball.com/Record/Player/HitterDetail/Basic.aspx?playerId=53554', 'https://www.koreabaseball.com/Record/Player/HitterDetail/Basic.aspx?playerId=64153', 'https://www.koreabaseball.com/Record/Player/HitterDetail/Basic.aspx?playerId=79231', 'https://www.koreabaseball.com/Record/Player/HitterDetail/Basic.aspx?playerId=79608', 'https://www.koreabaseball.com/Record/Player/HitterDetail/Basic.aspx?playerId=69102', 'https://www.koreabaseball.com/Record/Player/HitterDetail/Basic.aspx?playerId=79240', 'https://www.koreabaseball.com/Record/Player/HitterDetail/Basic.aspx?playerId=77532', 'https://www.koreabaseball.com/Record/Player/HitterDetail/Basic.aspx?playerId=53827', 'https://www.koreabaseball.com/Record/Player/HitterDetail/Basic.aspx?playerId=66108', 'https://www.koreabaseball.com/Record/Player/HitterDetail/Basic.aspx?playerId=76232', 'https://www.koreabaseball.com/Record/Player/HitterDetail/Basic.aspx?playerId=67304', 'https://www.koreabaseball.com/Record/Player/HitterDetail/Basic.aspx?playerId=67341', 'https://www.koreabaseball.com/Record/Player/HitterDetail/Basic.aspx?playerId=75847', 'https://www.koreabaseball.com/Record/Player/HitterDetail/Basic.aspx?playerId=69995', 'https://www.koreabaseball.com/Record/Player/HitterDetail/Basic.aspx?playerId=68119', 'https://www.koreabaseball.com/Record/Player/HitterDetail/Basic.aspx?playerId=64004', 'https://www.koreabaseball.com/Record/Player/HitterDetail/Basic.aspx?playerId=69737', 'https://www.koreabaseball.com/Record/Player/HitterDetail/Basic.aspx?playerId=62907', 'https://www.koreabaseball.com/Record/Player/HitterDetail/Basic.aspx?playerId=53123', 'https://www.koreabaseball.com/Record/Player/HitterDetail/Basic.aspx?playerId=79402', 'https://www.koreabaseball.com/Record/Player/HitterDetail/Basic.aspx?playerId=74540', 'https://www.koreabaseball.com/Record/Player/HitterDetail/Basic.aspx?playerId=50458', 'https://www.koreabaseball.com/Record/Player/HitterDetail/Basic.aspx?playerId=72443', 'https://www.koreabaseball.com/Record/Player/HitterDetail/Basic.aspx?playerId=76290', 'https://www.koreabaseball.com/Record/Player/HitterDetail/Basic.aspx?playerId=79192', 'https://www.koreabaseball.com/Record/Player/HitterDetail/Basic.aspx?playerId=52009', 'https://www.koreabaseball.com/Record/Player/HitterDetail/Basic.aspx?playerId=52630', 'https://www.koreabaseball.com/Record/Player/HitterDetail/Basic.aspx?playerId=79215', 'https://www.koreabaseball.com/Record/Player/HitterDetail/Basic.aspx?playerId=51463', 'https://www.koreabaseball.com/Record/Player/HitterDetail/Basic.aspx?playerId=62415', 'https://www.koreabaseball.com/Record/Player/HitterDetail/Basic.aspx?playerId=53554', 'https://www.koreabaseball.com/Record/Player/HitterDetail/Basic.aspx?playerId=64153', 'https://www.koreabaseball.com/Record/Player/HitterDetail/Basic.aspx?playerId=79231', 'https://www.koreabaseball.com/Record/Player/HitterDetail/Basic.aspx?playerId=79608', 'https://www.koreabaseball.com/Record/Player/HitterDetail/Basic.aspx?playerId=69102', 'https://www.koreabaseball.com/Record/Player/HitterDetail/Basic.aspx?playerId=79240']\n",
      "파일 저장 완료\n",
      "파일 저장 경로: /Users/dokw/Library/CloudStorage/GoogleDrive-playdev7@gmail.com/내 드라이브/GJAI/StudyNote/호크아이/타자정보_2021.csv\n"
     ]
    },
    {
     "ename": "NameError",
     "evalue": "name 'df' is not defined",
     "output_type": "error",
     "traceback": [
      "\u001b[0;31m---------------------------------------------------------------------------\u001b[0m",
      "\u001b[0;31mNameError\u001b[0m                                 Traceback (most recent call last)",
      "Cell \u001b[0;32mIn[10], line 1\u001b[0m\n\u001b[0;32m----> 1\u001b[0m runner(\u001b[38;5;241m2021\u001b[39m)\n",
      "Cell \u001b[0;32mIn[8], line 17\u001b[0m, in \u001b[0;36mrunner\u001b[0;34m(year)\u001b[0m\n\u001b[1;32m     10\u001b[0m \u001b[38;5;66;03m#data = get_players_info(urls)\u001b[39;00m\n\u001b[1;32m     11\u001b[0m \n\u001b[1;32m     12\u001b[0m \u001b[38;5;66;03m#df = pd.DataFrame(data, columns=hitter_col)\u001b[39;00m\n\u001b[1;32m     13\u001b[0m \u001b[38;5;66;03m#df.to_csv(f_name, index=False)\u001b[39;00m\n\u001b[1;32m     15\u001b[0m \u001b[38;5;28mprint\u001b[39m(\u001b[38;5;124mf\u001b[39m\u001b[38;5;124m\"\u001b[39m\u001b[38;5;124m파일 저장 완료\u001b[39m\u001b[38;5;130;01m\\n\u001b[39;00m\u001b[38;5;124m파일 저장 경로: \u001b[39m\u001b[38;5;132;01m{\u001b[39;00mos\u001b[38;5;241m.\u001b[39mgetcwd()\u001b[38;5;132;01m}\u001b[39;00m\u001b[38;5;124m/\u001b[39m\u001b[38;5;132;01m{\u001b[39;00mf_name\u001b[38;5;132;01m}\u001b[39;00m\u001b[38;5;124m\"\u001b[39m)\n\u001b[0;32m---> 17\u001b[0m \u001b[38;5;28;01mreturn\u001b[39;00m df\n",
      "\u001b[0;31mNameError\u001b[0m: name 'df' is not defined"
     ]
    }
   ],
   "source": [
    "runner(2021) # 크롤링 희망 연도"
   ]
  },
  {
   "cell_type": "code",
   "execution_count": null,
   "id": "65c039fd-a355-4560-9689-d31bb9a07124",
   "metadata": {},
   "outputs": [],
   "source": []
  },
  {
   "cell_type": "code",
   "execution_count": null,
   "id": "e90a5b75-26bd-42fa-8540-fdf86689ccff",
   "metadata": {},
   "outputs": [],
   "source": []
  }
 ],
 "metadata": {
  "kernelspec": {
   "display_name": "Python 3 (ipykernel)",
   "language": "python",
   "name": "python3"
  },
  "language_info": {
   "codemirror_mode": {
    "name": "ipython",
    "version": 3
   },
   "file_extension": ".py",
   "mimetype": "text/x-python",
   "name": "python",
   "nbconvert_exporter": "python",
   "pygments_lexer": "ipython3",
   "version": "3.11.3"
  }
 },
 "nbformat": 4,
 "nbformat_minor": 5
}
